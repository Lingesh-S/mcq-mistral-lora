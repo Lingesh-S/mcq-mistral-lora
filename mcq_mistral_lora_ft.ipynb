{
  "nbformat": 4,
  "nbformat_minor": 0,
  "metadata": {
    "colab": {
      "provenance": [],
      "gpuType": "T4",
      "authorship_tag": "ABX9TyOVu+QWNKnz4F2fU36bL1lU"
    },
    "kernelspec": {
      "name": "python3",
      "display_name": "Python 3"
    },
    "language_info": {
      "name": "python"
    },
    "accelerator": "GPU"
  },
  "cells": [
    {
      "cell_type": "code",
      "source": [
        "!pip install -U bitsandbytes accelerate\n"
      ],
      "metadata": {
        "id": "0nxtDPnVJnQy"
      },
      "execution_count": null,
      "outputs": []
    },
    {
      "cell_type": "code",
      "source": [
        "!pip install -q peft transformers accelerate bitsandbytes\n"
      ],
      "metadata": {
        "id": "GLpdGWmoIaHw"
      },
      "execution_count": null,
      "outputs": []
    },
    {
      "cell_type": "code",
      "execution_count": null,
      "metadata": {
        "id": "6AZXAAJwCFJr"
      },
      "outputs": [],
      "source": [
        "!pip install -q transformers datasets accelerate peft bitsandbytes sentencepiece huggingface_hub\n"
      ]
    },
    {
      "cell_type": "code",
      "source": [
        "from huggingface_hub import login\n",
        "login()"
      ],
      "metadata": {
        "id": "GF7yAHSqCvum"
      },
      "execution_count": null,
      "outputs": []
    },
    {
      "cell_type": "code",
      "source": [
        "from google.colab import files\n",
        "uploaded = files.upload()\n",
        "\n",
        "import json\n",
        "from datasets import Dataset\n",
        "\n",
        "data = [json.loads(line) for line in open(\"mcq_generator_dataset.jsonl\")][:500]\n",
        "dataset = Dataset.from_list(data).train_test_split(test_size=0.1)"
      ],
      "metadata": {
        "id": "yN5X3ChiC46x"
      },
      "execution_count": null,
      "outputs": []
    },
    {
      "cell_type": "code",
      "source": [
        "from transformers import AutoTokenizer\n",
        "\n",
        "model_name = \"mistralai/Mistral-7B-Instruct-v0.1\"\n",
        "tokenizer = AutoTokenizer.from_pretrained(model_name)\n",
        "tokenizer.pad_token = tokenizer.eos_token\n",
        "\n",
        "def preprocess(example):\n",
        "    prompt = f\"\"\"### Instruction:\n",
        "Generate a multiple choice question with 4 options and one answer based on the paragraph below.\n",
        "\n",
        "Paragraph: {example['instruction']}\n",
        "\n",
        "### Response:\n",
        "{example['response']}\"\"\"\n",
        "    tokenized = tokenizer(prompt, padding=\"max_length\", truncation=True, max_length=512)\n",
        "    tokenized[\"labels\"] = tokenized[\"input_ids\"].copy()\n",
        "    return tokenized\n",
        "\n",
        "tokenized = dataset.map(preprocess, batched=True, remove_columns=dataset[\"train\"].column_names)\n"
      ],
      "metadata": {
        "id": "iTLbBWrHDBm4"
      },
      "execution_count": null,
      "outputs": []
    },
    {
      "cell_type": "code",
      "source": [
        "from transformers import AutoModelForCausalLM\n",
        "from peft import LoraConfig, get_peft_model, TaskType\n",
        "import torch\n",
        "\n",
        "model = AutoModelForCausalLM.from_pretrained(\n",
        "    model_name,\n",
        "    load_in_8bit=True,\n",
        "    device_map=\"auto\",\n",
        ")\n",
        "\n",
        "lora_config = LoraConfig(\n",
        "    r=8,\n",
        "    lora_alpha=32,\n",
        "    target_modules=[\"q_proj\", \"v_proj\"],\n",
        "    lora_dropout=0.05,\n",
        "    bias=\"none\",\n",
        "    task_type=TaskType.CAUSAL_LM\n",
        ")\n",
        "\n",
        "model = get_peft_model(model, lora_config)\n",
        "model.print_trainable_parameters()"
      ],
      "metadata": {
        "id": "Edt45yu3Dh4I"
      },
      "execution_count": null,
      "outputs": []
    },
    {
      "cell_type": "code",
      "source": [
        "from transformers import AutoTokenizer\n",
        "\n",
        "model_name = \"mistralai/Mistral-7B-Instruct-v0.1\"\n",
        "tokenizer = AutoTokenizer.from_pretrained(model_name)\n",
        "tokenizer.pad_token = tokenizer.eos_token\n",
        "\n",
        "def preprocess(example):\n",
        "    prompt = f\"\"\"### Instruction:\n",
        "Generate a multiple choice question with 4 options and one answer based on the paragraph below.\n",
        "\n",
        "Paragraph: {example['instruction']}\n",
        "\n",
        "### Response:\n",
        "{example['response']}\"\"\"\n",
        "    inputs = tokenizer(prompt, padding=\"max_length\", truncation=True, max_length=512)\n",
        "    inputs[\"labels\"] = inputs[\"input_ids\"].copy()\n",
        "    return inputs\n",
        "\n",
        "tokenized = dataset.map(preprocess, batched=True, remove_columns=dataset[\"train\"].column_names)\n"
      ],
      "metadata": {
        "id": "RhXol_EPDmCP"
      },
      "execution_count": null,
      "outputs": []
    },
    {
      "cell_type": "code",
      "source": [
        "model.push_to_hub(\"Lingesh-S/mcq-mistral-lora\")\n",
        "tokenizer.push_to_hub(\"Lingesh-S/mcq-mistral-lora\")"
      ],
      "metadata": {
        "id": "K_gg4s7CDoVI"
      },
      "execution_count": null,
      "outputs": []
    },
    {
      "cell_type": "code",
      "source": [
        "from transformers import AutoModelForCausalLM, AutoTokenizer, BitsAndBytesConfig\n",
        "from peft import PeftModel\n",
        "\n",
        "base_model = \"mistralai/Mistral-7B-Instruct-v0.1\"\n",
        "adapter_repo = \"Lingesh-S/mcq-mistral-lora\"\n",
        "offload_folder = \"./offload\"\n",
        "\n",
        "tokenizer = AutoTokenizer.from_pretrained(base_model)\n",
        "tokenizer.pad_token = tokenizer.eos_token\n",
        "\n",
        "bnb_config = BitsAndBytesConfig(\n",
        "    load_in_8bit=True,\n",
        "    llm_int8_threshold=6.0,\n",
        "    llm_int8_enable_fp32_cpu_offload=True,\n",
        ")\n",
        "\n",
        "model = AutoModelForCausalLM.from_pretrained(\n",
        "    base_model,\n",
        "    quantization_config=bnb_config,\n",
        "    device_map=\"auto\",\n",
        "    offload_folder=offload_folder\n",
        ")\n",
        "\n",
        "model = PeftModel.from_pretrained(model, adapter_repo)"
      ],
      "metadata": {
        "id": "GbCc8Ci8DuHE",
        "collapsed": true
      },
      "execution_count": null,
      "outputs": []
    },
    {
      "cell_type": "code",
      "source": [
        "from transformers import pipeline\n",
        "\n",
        "pipe = pipeline(\"text-generation\", model=model, tokenizer=tokenizer)\n",
        "\n",
        "prompt = \"\"\"\n",
        "# Instruction:\n",
        "Generate a multiple choice question with 4 options and one correct answer based on the paragraph below.\n",
        "\n",
        "Paragraph: The Lok Sabha is the House of the People in India. It is one of the two houses of Parliament.\n",
        "\n",
        "# Response:\"\"\"\n",
        "\n",
        "output = pipe(prompt, max_new_tokens=150, do_sample=True, temperature=0.5)\n",
        "print(output[0][\"generated_text\"])\n"
      ],
      "metadata": {
        "id": "7wfV_SWXMn4c"
      },
      "execution_count": null,
      "outputs": []
    }
  ]
}